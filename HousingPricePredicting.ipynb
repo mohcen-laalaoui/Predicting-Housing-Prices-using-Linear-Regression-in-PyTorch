{
 "cells": [
  {
   "cell_type": "markdown",
   "id": "9d15fc07-086e-420f-a728-8940b44ecdda",
   "metadata": {},
   "source": [
    "# **Predicting Housing-Prices using Linear Regression in PyTorch**"
   ]
  },
  {
   "cell_type": "markdown",
   "id": "4fa4bfde-70c8-44d9-a4a1-f0059c100a23",
   "metadata": {},
   "source": [
    "### Import necessary Libraries"
   ]
  },
  {
   "cell_type": "code",
   "execution_count": 1,
   "id": "02d05980-4cb8-4651-9423-24372bf47fb5",
   "metadata": {},
   "outputs": [],
   "source": [
    "import pandas as pd\n",
    "import numpy as np\n",
    "import torch\n",
    "import torch.nn as nn\n",
    "import torch.optim as optim\n",
    "import matplotlib.pyplot as plt\n",
    "from sklearn.preprocessing import StandardScaler\n",
    "from sklearn.model_selection import train_test_split\n",
    "from sklearn.metrics import mean_squared_error, mean_absolute_error, r2_score"
   ]
  },
  {
   "cell_type": "markdown",
   "id": "f04f4018-bdce-44dc-8c7c-815519ecf85a",
   "metadata": {},
   "source": [
    "### Load the dataset"
   ]
  },
  {
   "cell_type": "code",
   "execution_count": 18,
   "id": "24d5cbd5-a053-462b-8967-5dea734dd55c",
   "metadata": {},
   "outputs": [
    {
     "name": "stdout",
     "output_type": "stream",
     "text": [
      "      CRIM    ZN  INDUS  CHAS    NOX     RM   AGE     DIS  RAD  TAX  PTRATIO  \\\n",
      "0  0.00632  18.0   2.31   0.0  0.538  6.575  65.2  4.0900    1  296     15.3   \n",
      "1  0.02731   0.0   7.07   0.0  0.469  6.421  78.9  4.9671    2  242     17.8   \n",
      "2  0.02729   0.0   7.07   0.0  0.469  7.185  61.1  4.9671    2  242     17.8   \n",
      "3  0.03237   0.0   2.18   0.0  0.458  6.998  45.8  6.0622    3  222     18.7   \n",
      "4  0.06905   0.0   2.18   0.0  0.458  7.147  54.2  6.0622    3  222     18.7   \n",
      "\n",
      "        B  LSTAT  MEDV  \n",
      "0  396.90   4.98  24.0  \n",
      "1  396.90   9.14  21.6  \n",
      "2  392.83   4.03  34.7  \n",
      "3  394.63   2.94  33.4  \n",
      "4  396.90    NaN  36.2  \n"
     ]
    }
   ],
   "source": [
    "data = pd.read_csv(\"HousingData.csv\")\n",
    "print(data.head())"
   ]
  },
  {
   "cell_type": "markdown",
   "id": "a12a544c-067e-4a07-bee3-ae1bb6e7828b",
   "metadata": {},
   "source": [
    "### Handle missing values"
   ]
  },
  {
   "cell_type": "code",
   "execution_count": 3,
   "id": "f9a7fcbb-c570-4d7d-a57d-a2a78d03bd00",
   "metadata": {},
   "outputs": [],
   "source": [
    "data.ffill(inplace=True)"
   ]
  },
  {
   "cell_type": "code",
   "execution_count": 20,
   "id": "a6d9eb00-7ba3-49b9-94a2-00aaea176d32",
   "metadata": {},
   "outputs": [],
   "source": [
    "data = data.dropna()"
   ]
  },
  {
   "cell_type": "markdown",
   "id": "c2ded437-6259-4fc1-abea-4e8a76896f57",
   "metadata": {},
   "source": [
    "### Check for duplicates"
   ]
  },
  {
   "cell_type": "code",
   "execution_count": 21,
   "id": "d7851adb-4007-4c76-8f4b-d571a79cff0f",
   "metadata": {},
   "outputs": [],
   "source": [
    "duplicates = data.duplicated().sum()"
   ]
  },
  {
   "cell_type": "code",
   "execution_count": 22,
   "id": "8bc7c13e-afcc-4ae3-a4b3-5e8b15850bfa",
   "metadata": {},
   "outputs": [
    {
     "name": "stdout",
     "output_type": "stream",
     "text": [
      "\n",
      "Number of duplicate rows: 0\n"
     ]
    }
   ],
   "source": [
    "print(f\"\\nNumber of duplicate rows: {duplicates}\")\n",
    "if duplicates > 0:\n",
    "    data = data.drop_duplicates()"
   ]
  },
  {
   "cell_type": "code",
   "execution_count": 23,
   "id": "95480d7b-d427-40e4-97e5-6c26f202c0c0",
   "metadata": {},
   "outputs": [
    {
     "name": "stdout",
     "output_type": "stream",
     "text": [
      "\n",
      "Data types before conversion:\n",
      "CRIM       float64\n",
      "ZN         float64\n",
      "INDUS      float64\n",
      "CHAS       float64\n",
      "NOX        float64\n",
      "RM         float64\n",
      "AGE        float64\n",
      "DIS        float64\n",
      "RAD          int64\n",
      "TAX          int64\n",
      "PTRATIO    float64\n",
      "B          float64\n",
      "LSTAT      float64\n",
      "MEDV       float64\n",
      "dtype: object\n"
     ]
    }
   ],
   "source": [
    "print(\"\\nData types before conversion:\")\n",
    "print(data.dtypes)"
   ]
  },
  {
   "cell_type": "markdown",
   "id": "528a0f4c-2995-4fee-906e-07b7b7e66a81",
   "metadata": {},
   "source": [
    "### Split the data into features and target variable"
   ]
  },
  {
   "cell_type": "code",
   "execution_count": 24,
   "id": "1ee0530e-7c73-46f8-b79a-c8f011d4a84a",
   "metadata": {},
   "outputs": [],
   "source": [
    "X = data.drop('MEDV', axis=1)  \n",
    "y = data['MEDV']"
   ]
  },
  {
   "cell_type": "markdown",
   "id": "e77d6187-50b1-4128-ac6b-3067e941807b",
   "metadata": {},
   "source": [
    "### Scale the features"
   ]
  },
  {
   "cell_type": "code",
   "execution_count": 26,
   "id": "fba35ae4-b817-4ce6-8767-fc1695e83f31",
   "metadata": {},
   "outputs": [],
   "source": [
    "scaler = StandardScaler()\n",
    "X_scaled = scaler.fit_transform(X)"
   ]
  },
  {
   "cell_type": "markdown",
   "id": "26dfb126-5745-4e3a-891c-e833c901b7dd",
   "metadata": {},
   "source": [
    "### Split the data into training and testing sets"
   ]
  },
  {
   "cell_type": "code",
   "execution_count": 27,
   "id": "35a84e87-f4d2-427d-92c1-dea4e184a36f",
   "metadata": {},
   "outputs": [],
   "source": [
    "X_train, X_test, y_train, y_test = train_test_split(X_scaled, y, test_size=0.2, random_state=42)"
   ]
  },
  {
   "cell_type": "markdown",
   "id": "50a0f123-53ea-4aba-afeb-2a86e31b24d7",
   "metadata": {},
   "source": [
    "### Convert data to PyTorch tensors"
   ]
  },
  {
   "cell_type": "code",
   "execution_count": 28,
   "id": "07a81cdc-5a06-4e93-b814-9f15e089b6de",
   "metadata": {},
   "outputs": [],
   "source": [
    "X_train_tensor = torch.tensor(X_train, dtype=torch.float32)\n",
    "y_train_tensor = torch.tensor(y_train.values, dtype=torch.float32).view(-1, 1)\n",
    "X_test_tensor = torch.tensor(X_test, dtype=torch.float32)\n",
    "y_test_tensor = torch.tensor(y_test.values, dtype=torch.float32).view(-1, 1)\n",
    "\n",
    "class LinearRegressionModel(nn.Module):\n",
    "    def __init__(self, input_size, output_size):  \n",
    "        super(LinearRegressionModel, self).__init__()  \n",
    "        self.linear = nn.Linear(input_size, output_size)  \n",
    "\n",
    "    def forward(self, x):\n",
    "        return self.linear(x) "
   ]
  },
  {
   "cell_type": "markdown",
   "id": "75fc54dc-1a1a-488a-90f6-683213cbb80a",
   "metadata": {},
   "source": [
    "### Create the model"
   ]
  },
  {
   "cell_type": "code",
   "execution_count": 8,
   "id": "92b7d1ee-0dfc-4f91-a252-7b6f707be11e",
   "metadata": {},
   "outputs": [],
   "source": [
    "model = LinearRegressionModel(X_train.shape[1], 1)"
   ]
  },
  {
   "cell_type": "code",
   "execution_count": 9,
   "id": "84b649e6-ff69-4b8b-ad7a-97aab82f9686",
   "metadata": {},
   "outputs": [],
   "source": [
    "model = LinearRegressionModel(X_train.shape[1], 1)"
   ]
  },
  {
   "cell_type": "markdown",
   "id": "6a555ea1-2df1-4981-ba8a-a2d35965aaba",
   "metadata": {},
   "source": [
    "### Define loss function and optimizer"
   ]
  },
  {
   "cell_type": "code",
   "execution_count": 10,
   "id": "a397bb84-ab3e-42bd-9b16-909b3a28db51",
   "metadata": {},
   "outputs": [],
   "source": [
    "ccriterion = nn.MSELoss()\n",
    "optimizer = optim.SGD(model.parameters(), lr=0.01)"
   ]
  },
  {
   "cell_type": "code",
   "execution_count": 13,
   "id": "d290ec6a-34f2-4c76-8352-ffa88285e49e",
   "metadata": {},
   "outputs": [],
   "source": [
    "criterion = nn.MSELoss()"
   ]
  },
  {
   "cell_type": "code",
   "execution_count": 14,
   "id": "438e93a8-468b-4336-9550-6c86cefad8aa",
   "metadata": {},
   "outputs": [
    {
     "name": "stdout",
     "output_type": "stream",
     "text": [
      "Epoch [50/500], Loss: 95.0038\n",
      "Epoch [100/500], Loss: 32.9307\n",
      "Epoch [150/500], Loss: 24.4044\n",
      "Epoch [200/500], Loss: 22.9938\n",
      "Epoch [250/500], Loss: 22.6239\n",
      "Epoch [300/500], Loss: 22.4480\n",
      "Epoch [350/500], Loss: 22.3327\n",
      "Epoch [400/500], Loss: 22.2491\n",
      "Epoch [450/500], Loss: 22.1863\n",
      "Epoch [500/500], Loss: 22.1382\n"
     ]
    }
   ],
   "source": [
    "losses = []\n",
    "num_epochs = 500\n",
    "for epoch in range(num_epochs):\n",
    "    model.train()  # Set model to training mode\n",
    "    outputs = model(X_train_tensor)\n",
    "    loss = criterion(outputs, y_train_tensor)\n",
    "\n",
    "    # Backward and optimize\n",
    "    optimizer.zero_grad()\n",
    "    loss.backward()\n",
    "    optimizer.step()\n",
    "\n",
    "    losses.append(loss.item())  # Store the loss value\n",
    "\n",
    "    if (epoch + 1) % 50 == 0:\n",
    "        print(f'Epoch [{epoch + 1}/{num_epochs}], Loss: {loss.item():.4f}')"
   ]
  },
  {
   "cell_type": "markdown",
   "id": "3e996ce4-c87a-48b9-8290-b8711202540e",
   "metadata": {},
   "source": [
    "### Plotting the training loss over epochs"
   ]
  },
  {
   "cell_type": "code",
   "execution_count": 29,
   "id": "0c565ffa-717c-47ef-9e6a-39210884f6a5",
   "metadata": {},
   "outputs": [
    {
     "data": {
      "image/png": "[encoded data removed]",
      "text/plain": [
       "<Figure size 1000x600 with 1 Axes>"
      ]
     },
     "metadata": {},
     "output_type": "display_data"
    }
   ],
   "source": [
    "plt.figure(figsize=(10, 6))\n",
    "plt.plot(range(1, num_epochs + 1), losses, label='Training Loss')\n",
    "plt.xlabel('Epoch')\n",
    "plt.ylabel('Loss')\n",
    "plt.title('Training Loss Over Epochs')\n",
    "plt.legend()\n",
    "plt.show()"
   ]
  },
  {
   "cell_type": "code",
   "execution_count": null,
   "id": "22a6a425-1767-45ae-93a2-98319dd93bc8",
   "metadata": {},
   "outputs": [],
   "source": []
  },
  {
   "cell_type": "markdown",
   "id": "7215b575-c2c6-4301-a50a-f094e52af50b",
   "metadata": {},
   "source": [
    "### Evaluate on the test set"
   ]
  },
  {
   "cell_type": "code",
   "execution_count": 16,
   "id": "21d7b609-2b80-4ce6-b7ea-a2456c0c5acd",
   "metadata": {},
   "outputs": [
    {
     "name": "stdout",
     "output_type": "stream",
     "text": [
      "Test Loss: 25.4464\n",
      "MSE: 25.4464\n",
      "MAE: 3.2034\n",
      "R-squared: 0.6530\n"
     ]
    }
   ],
   "source": [
    "model.eval() \n",
    "with torch.no_grad():\n",
    "    y_pred = model(X_test_tensor)\n",
    "    test_loss = criterion(y_pred, y_test_tensor)\n",
    "    print(f'Test Loss: {test_loss.item():.4f}')\n",
    "\n",
    "y_pred_np = y_pred.numpy().flatten()\n",
    "y_test_np = y_test_tensor.numpy().flatten()\n",
    "mse = mean_squared_error(y_test_np, y_pred_np)\n",
    "mae = mean_absolute_error(y_test_np, y_pred_np)\n",
    "r2 = r2_score(y_test_np, y_pred_np)\n",
    "print(f'MSE: {mse:.4f}')\n",
    "print(f'MAE: {mae:.4f}')\n",
    "print(f'R-squared: {r2:.4f}')"
   ]
  },
  {
   "cell_type": "markdown",
   "id": "0086f408-ddcb-46af-97ac-6b55e98c21cb",
   "metadata": {},
   "source": [
    "### Plot predicted vs actual values"
   ]
  },
  {
   "cell_type": "code",
   "execution_count": 30,
   "id": "cae91fc0-a133-436b-b185-1a7f242cbf88",
   "metadata": {},
   "outputs": [
    {
     "data": {
      "image/png": "[encoded data removed]",
      "text/plain": [
       "<Figure size 1000x600 with 1 Axes>"
      ]
     },
     "metadata": {},
     "output_type": "display_data"
    }
   ],
   "source": [
    "plt.figure(figsize=(10, 6))\n",
    "plt.scatter(y_test_np, y_pred_np, color='blue', label='Predictions')\n",
    "plt.plot([min(y_test_np), max(y_test_np)], [min(y_test_np), max(y_test_np)], color='red', linestyle='--', label='Perfect Prediction')\n",
    "plt.xlabel('Actual Values')\n",
    "plt.ylabel('Predicted Values')\n",
    "plt.title('Predictions vs Actual Values')\n",
    "plt.legend()\n",
    "plt.show()"
   ]
  },
  {
   "cell_type": "code",
   "execution_count": null,
   "id": "351e92b4-4189-4c81-81aa-8024af2a4f4f",
   "metadata": {},
   "outputs": [],
   "source": []
  }
 ],
 "metadata": {
  "kernelspec": {
   "display_name": "Python 3 (ipykernel)",
   "language": "python",
   "name": "python3"
  },
  "language_info": {
   "codemirror_mode": {
    "name": "ipython",
    "version": 3
   },
   "file_extension": ".py",
   "mimetype": "text/x-python",
   "name": "python",
   "nbconvert_exporter": "python",
   "pygments_lexer": "ipython3",
   "version": "3.12.4"
  }
 },
 "nbformat": 4,
 "nbformat_minor": 5
}
